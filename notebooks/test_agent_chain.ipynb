{
 "cells": [
  {
   "metadata": {},
   "cell_type": "raw",
   "source": [
    "{\n",
    " \"cells\": [],\n",
    " \"metadata\": {},\n",
    " \"nbformat\": 4,\n",
    " \"nbformat_minor\": 2\n",
    "}\n",
    "\n"
   ],
   "id": "fb773402e9ef1d20"
  }
 ],
 "metadata": {},
 "nbformat": 5,
 "nbformat_minor": 9
}
