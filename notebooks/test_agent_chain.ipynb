{
 "cells": [
  {
   "metadata": {},
   "cell_type": "raw",
   "source": [
    "{\n",
    " \"cells\": [],\n",
    " \"metadata\": {},\n",
    " \"nbformat\": 4,\n",
    " \"nbformat_minor\": 2\n",
    "}\n",
    "\n"
   ],
   "id": "fb773402e9ef1d20"
  },
  {
   "metadata": {},
   "cell_type": "code",
   "outputs": [],
   "execution_count": null,
   "source": "!pip install langgraph pygraphviz ipython\n",
   "id": "9e273482e95ae710"
  },
  {
   "metadata": {},
   "cell_type": "code",
   "outputs": [],
   "execution_count": null,
   "source": "",
   "id": "d0240e63cb9a01fe"
  }
 ],
 "metadata": {},
 "nbformat": 5,
 "nbformat_minor": 9
}
